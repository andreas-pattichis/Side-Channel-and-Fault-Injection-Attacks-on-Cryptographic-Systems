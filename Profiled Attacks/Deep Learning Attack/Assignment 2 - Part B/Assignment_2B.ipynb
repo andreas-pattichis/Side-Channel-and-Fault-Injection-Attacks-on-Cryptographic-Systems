{
 "cells": [
  {
   "cell_type": "code",
   "id": "2a8c6130-bb27-441c-ae60-303d85d86aa7",
   "metadata": {
    "pycharm": {
     "name": "#%%\n"
    },
    "ExecuteTime": {
     "end_time": "2024-05-21T08:46:13.026913Z",
     "start_time": "2024-05-21T08:46:12.505195Z"
    }
   },
   "source": [
    "import h5py\n",
    "\n",
    "# Replace with the path to your databaseEdDSA.h5 file\n",
    "file_path = 'databaseEdDSA.h5'\n",
    "\n",
    "# Open the file in read mode\n",
    "with h5py.File(file_path, 'r') as file:\n",
    "    # List all groups\n",
    "    print(\"Keys: %s\" % list(file.keys()))\n",
    "    # 'Attack_traces' and 'Profiling_traces' are groups containing datasets\n",
    "    # Let's list what is inside these groups to understand better\n",
    "    print(\"Attack_traces contents: %s\" % list(file['Attack_traces'].keys()))\n",
    "    print(\"Profiling_traces contents: %s\" % list(file['Profiling_traces'].keys()))\n",
    "\n",
    "    # Now, access the actual data inside these groups\n",
    "    test_data = file['Attack_traces/traces'][:]  \n",
    "    train_data = file['Profiling_traces/traces'][:]  \n",
    "    test_targets = file['Attack_traces/label'][:]  \n",
    "    train_targets = file['Profiling_traces/label'][:] \n",
    "\n",
    "# Now you can safely print the shape outside the with block\n",
    "print(train_data.shape, train_targets.shape)\n",
    "print(test_data.shape, test_targets.shape)"
   ],
   "outputs": [
    {
     "name": "stdout",
     "output_type": "stream",
     "text": [
      "Keys: ['Attack_traces', 'Profiling_traces']\n",
      "Attack_traces contents: ['label', 'traces']\n",
      "Profiling_traces contents: ['label', 'traces']\n",
      "(5120, 1000) (5120,)\n",
      "(1280, 1000) (1280,)\n"
     ]
    }
   ],
   "execution_count": 1
  },
  {
   "cell_type": "code",
   "execution_count": null,
   "id": "619a272d-d56f-4825-b466-169648933e98",
   "metadata": {},
   "outputs": [],
   "source": []
  }
 ],
 "metadata": {
  "kernelspec": {
   "display_name": "Python 3 (ipykernel)",
   "language": "python",
   "name": "python3"
  },
  "language_info": {
   "codemirror_mode": {
    "name": "ipython",
    "version": 3
   },
   "file_extension": ".py",
   "mimetype": "text/x-python",
   "name": "python",
   "nbconvert_exporter": "python",
   "pygments_lexer": "ipython3",
   "version": "3.10.4"
  }
 },
 "nbformat": 4,
 "nbformat_minor": 5
}
